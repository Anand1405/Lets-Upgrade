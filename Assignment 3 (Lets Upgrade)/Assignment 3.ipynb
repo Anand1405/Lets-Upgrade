{
 "cells": [
  {
   "cell_type": "code",
   "execution_count": 1,
   "metadata": {},
   "outputs": [],
   "source": [
    "import numpy as np"
   ]
  },
  {
   "cell_type": "markdown",
   "metadata": {},
   "source": [
    "# Questions 1:\n",
    "Create a numpy array starting from 2 till 50 with a stepsize of 3."
   ]
  },
  {
   "cell_type": "code",
   "execution_count": 2,
   "metadata": {},
   "outputs": [
    {
     "name": "stdout",
     "output_type": "stream",
     "text": [
      "[ 2  5  8 11 14 17 20 23 26 29 32 35 38 41 44 47 50]\n"
     ]
    }
   ],
   "source": [
    "arr1 = np.arange(2,51,3)\n",
    "print(arr1)"
   ]
  },
  {
   "cell_type": "markdown",
   "metadata": {},
   "source": [
    "# Questions 2:\n",
    "Accept two lists of 5 elements each from the user.\n",
    "Convert them to numpy arrays. Concatenate these arrays and print it. Also sort these arrays and print it."
   ]
  },
  {
   "cell_type": "code",
   "execution_count": 3,
   "metadata": {},
   "outputs": [
    {
     "name": "stdout",
     "output_type": "stream",
     "text": [
      "1 3 5 7 9\n",
      "2 4 6 8 10\n",
      "Array after Concatenation: [ 1  3  5  7  9  2  4  6  8 10]\n",
      "Sorted: [ 1  2  3  4  5  6  7  8  9 10]\n"
     ]
    }
   ],
   "source": [
    "l1 = list(map(int,input().split()))\n",
    "l2 = list(map(int,input().split()))\n",
    "arr1 = np.array(l1)\n",
    "arr2 = np.array(l2)\n",
    "arr3 = np.concatenate((arr1,arr2))\n",
    "print(\"Array after Concatenation:\",arr3)\n",
    "print(\"Sorted:\",np.sort(arr3))"
   ]
  },
  {
   "cell_type": "markdown",
   "metadata": {},
   "source": [
    "# Questions 3:\n",
    "Write a code snippet to find the dimensions of a ndarray and its size."
   ]
  },
  {
   "cell_type": "code",
   "execution_count": 4,
   "metadata": {},
   "outputs": [
    {
     "name": "stdout",
     "output_type": "stream",
     "text": [
      "[[ 1  2  3]\n",
      " [ 4  5  6]\n",
      " [ 7  8  9]\n",
      " [10 11 12]]\n",
      "Dimension: 2\n",
      "Size: 12\n"
     ]
    }
   ],
   "source": [
    "arr1 = np.array(([1,2,3],[4,5,6],[7,8,9],[10,11,12]))\n",
    "print(arr1)\n",
    "print(\"Dimension:\",arr1.ndim)\n",
    "print(\"Size:\",arr1.size)"
   ]
  },
  {
   "cell_type": "markdown",
   "metadata": {},
   "source": [
    "# Questions 4:\n",
    "\n",
    "How to convert a 1D array into a 2D array? Demonstrate with the help of a code snippet\n",
    "Hint: np.newaxis, np.expand_dims"
   ]
  },
  {
   "cell_type": "markdown",
   "metadata": {},
   "source": [
    "Ans: To convert a 1D array into 2D array numpy functions can be used like expand_dims,newaxis and reshape. Given below are all the three implementations"
   ]
  },
  {
   "cell_type": "code",
   "execution_count": 5,
   "metadata": {},
   "outputs": [
    {
     "name": "stdout",
     "output_type": "stream",
     "text": [
      "Dimension of array 1: 1\n",
      "Dimension of Array 2: 2\n",
      "Dimension of Array 3: 2\n",
      "Dimension of Array 4: 2\n"
     ]
    }
   ],
   "source": [
    "arr1 = np.arange(1,13)\n",
    "print(\"Dimension of array 1:\",arr1.ndim)\n",
    "arr2 = np.expand_dims(arr1, 1)\n",
    "print(\"Dimension of Array 2:\",arr2.ndim)\n",
    "arr3 = arr1[np.newaxis]\n",
    "print(\"Dimension of Array 3:\",arr3.ndim)\n",
    "arr4 = arr1.reshape(-1,2)\n",
    "print(\"Dimension of Array 4:\",arr4.ndim)"
   ]
  },
  {
   "cell_type": "markdown",
   "metadata": {},
   "source": [
    "# Questions 5:\n",
    "Consider two square numpy arrays. Stack them vertically and horizontally.\n",
    "Hint: Use vstack(), hstack()"
   ]
  },
  {
   "cell_type": "code",
   "execution_count": 6,
   "metadata": {},
   "outputs": [
    {
     "name": "stdout",
     "output_type": "stream",
     "text": [
      "Array 1:\n",
      "[[1 2 3]\n",
      " [4 5 6]\n",
      " [7 8 9]]\n",
      "Array 2:\n",
      "[[10 11 12]\n",
      " [13 14 15]\n",
      " [16 17 18]]\n",
      "Array 3(Vertical):\n",
      "[[ 1  2  3]\n",
      " [ 4  5  6]\n",
      " [ 7  8  9]\n",
      " [10 11 12]\n",
      " [13 14 15]\n",
      " [16 17 18]]\n",
      "Array 4(Horizontal):\n",
      "[[ 1  2  3 10 11 12]\n",
      " [ 4  5  6 13 14 15]\n",
      " [ 7  8  9 16 17 18]]\n"
     ]
    }
   ],
   "source": [
    "arr1 = np.arange(1,10).reshape(3,3)\n",
    "print(\"Array 1:\")\n",
    "print(arr1)\n",
    "arr2 = np.arange(10,19).reshape(3,3)\n",
    "print(\"Array 2:\")\n",
    "print(arr2)\n",
    "arr3 = np.vstack((arr1,arr2))\n",
    "print(\"Array 3(Vertical):\")\n",
    "print(arr3)\n",
    "arr4 = np.hstack((arr1,arr2))\n",
    "print(\"Array 4(Horizontal):\")\n",
    "print(arr4)"
   ]
  },
  {
   "cell_type": "markdown",
   "metadata": {},
   "source": [
    "# Questions 6:\n",
    "How to get unique items and counts of unique items?"
   ]
  },
  {
   "cell_type": "code",
   "execution_count": 7,
   "metadata": {},
   "outputs": [
    {
     "name": "stdout",
     "output_type": "stream",
     "text": [
      "Unique Elements: [1 2 3 4 5 7 8 9]\n",
      "Unique Count:    [1 2 1 3 3 2 2 1]\n"
     ]
    }
   ],
   "source": [
    "arr1 = np.array([1,3,5,2,5,7,4,8,9,5,8,4,2,7,4])\n",
    "unique, unique_count = np.unique(arr1,return_counts=True)\n",
    "print(\"Unique Elements:\", unique)\n",
    "print(\"Unique Count:   \",unique_count)"
   ]
  }
 ],
 "metadata": {
  "kernelspec": {
   "display_name": "Python 3",
   "language": "python",
   "name": "python3"
  },
  "language_info": {
   "codemirror_mode": {
    "name": "ipython",
    "version": 3
   },
   "file_extension": ".py",
   "mimetype": "text/x-python",
   "name": "python",
   "nbconvert_exporter": "python",
   "pygments_lexer": "ipython3",
   "version": "3.8.3"
  }
 },
 "nbformat": 4,
 "nbformat_minor": 4
}
